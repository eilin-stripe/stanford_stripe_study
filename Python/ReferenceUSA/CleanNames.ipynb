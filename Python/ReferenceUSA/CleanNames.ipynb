{
 "cells": [
  {
   "cell_type": "code",
   "execution_count": 1,
   "metadata": {
    "collapsed": true
   },
   "outputs": [],
   "source": [
    "import numpy as np\n",
    "import pandas as pd"
   ]
  },
  {
   "cell_type": "code",
   "execution_count": 2,
   "metadata": {
    "collapsed": false
   },
   "outputs": [],
   "source": [
    "base = '../'\n",
    "\n",
    "collapse_filename = base + 'Data/ReferenceUSA/parent_collapse_2015.h5'\n",
    "\n",
    "\n",
    "parent = pd.HDFStore(collapse_filename)\n"
   ]
  },
  {
   "cell_type": "code",
   "execution_count": 3,
   "metadata": {
    "collapsed": false
   },
   "outputs": [],
   "source": [
    "main = parent.select('main')"
   ]
  },
  {
   "cell_type": "code",
   "execution_count": 4,
   "metadata": {
    "collapsed": false
   },
   "outputs": [],
   "source": [
    "main = main[main.archive_version_year == 2015] "
   ]
  },
  {
   "cell_type": "code",
   "execution_count": 5,
   "metadata": {
    "collapsed": false
   },
   "outputs": [],
   "source": [
    "main['Company'] = main.Company.str.lower()\n",
    "main['Company'] = main.Company.str.replace(' co$', ' corporation')\n",
    "main['Company'] = main.Company.str.replace(' co.$', ' corporation')\n",
    "main['Company'] = main.Company.str.replace(' inc.$', ' incorporated')\n",
    "main['Company'] = main.Company.str.replace(' inc$', ' incorporated')\n",
    "main['Company'] = main.Company.str.replace(' llc$', ' limited liability corporation')\n",
    "main['Company'] = main.Company.str.replace(' svc$', ' services')\n",
    "main['Company'] = main.Company.str.replace(' nfp$', ' not for profit')\n",
    "main['Company'] = main.Company.str.replace(' nfp.$', ' not for profit')\n",
    "main['Company'] = main.Company.str.replace(' associates$', ' associate')\n",
    "main['Company'] = main.Company.str.replace(' univ$', ' university')\n",
    "main['Company'] = main.Company.str.replace(' dept$', ' department')\n",
    "main['Company'] = main.Company.str.replace(' ctr$', ' center')\n",
    "main['Company'] = main.Company.str.replace(' the ', ' ')\n",
    "main['Company'] = main.Company.str.replace('^the ', '')\n",
    "main['Company'] = main.Company.str.replace('\\.com$', '')\n",
    "main['Company'] = main.Company.str.replace('\\.co$', '')\n",
    "main['Company'] = main.Company.str.replace('\\.net$', '')\n",
    "main['Company'] = main.Company.str.replace('&', 'and')\n",
    "main['Company'] = main.Company.str.replace('\\.', '')\n",
    "main['Company'] = main.Company.str.replace(',', '')\n",
    "main['Company'] = main.Company.str.replace('|', '')\n",
    "main['Company'] = main.Company.str.replace('@', '')\n",
    "main['Company'] = main.Company.str.replace('_', '')\n",
    "main['Company'] = main.Company.str.replace('#', '')"
   ]
  },
  {
   "cell_type": "code",
   "execution_count": 6,
   "metadata": {
    "collapsed": true
   },
   "outputs": [],
   "source": [
    "main['Company'] = main.Company.str.replace(' ', '')"
   ]
  },
  {
   "cell_type": "code",
   "execution_count": null,
   "metadata": {
    "collapsed": true
   },
   "outputs": [],
   "source": [
    "collapse_filename = base + 'Data/ReferenceUSA/parent_collapse_edited2.h5'\n",
    "store = pd.HDFStore(collapse_filename)\n",
    "store.append('main', main, index=False, dropna=False)"
   ]
  },
  {
   "cell_type": "code",
   "execution_count": null,
   "metadata": {
    "collapsed": false
   },
   "outputs": [],
   "source": [
    "main['Company'].head()"
   ]
  },
  {
   "cell_type": "code",
   "execution_count": null,
   "metadata": {
    "collapsed": true
   },
   "outputs": [],
   "source": []
  }
 ],
 "metadata": {
  "kernelspec": {
   "display_name": "Python 3",
   "language": "python",
   "name": "python3"
  },
  "language_info": {
   "codemirror_mode": {
    "name": "ipython",
    "version": 3
   },
   "file_extension": ".py",
   "mimetype": "text/x-python",
   "name": "python",
   "nbconvert_exporter": "python",
   "pygments_lexer": "ipython3",
   "version": "3.6.0"
  }
 },
 "nbformat": 4,
 "nbformat_minor": 2
}
