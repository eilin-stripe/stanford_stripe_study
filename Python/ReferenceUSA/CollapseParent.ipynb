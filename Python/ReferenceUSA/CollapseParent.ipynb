{
 "cells": [
  {
   "cell_type": "code",
   "execution_count": 1,
   "metadata": {
    "collapsed": true
   },
   "outputs": [],
   "source": [
    "import numpy as np\n",
    "import pandas as pd\n",
    "import os, errno\n",
    "\n",
    "def silentremove(filename):\n",
    "   try:\n",
    "       os.remove(filename)\n",
    "   except OSError as e: # this would be \"except OSError, e:\" before Python 2.6\n",
    "       if e.errno != errno.ENOENT: # errno.ENOENT = no such file or directory\n",
    "           raise # re-raise exception if a different error occurred\n",
    "\n",
    "# Setup\n",
    "base = '../'\n",
    "\n",
    "#########################\n",
    "## Parent Company File ##\n",
    "#########################\n",
    "# Attach to the HDF5 file where we will store the data rolled-up to the parent level\n",
    "parent_filename = base + 'Data/ReferenceUSA/parent.h5'\n",
    "# Delete the file that's already in this location in order to ensure that we're not appending data twice\n",
    "silentremove(parent_filename)\n",
    "# Setup the connection to the parent file\n",
    "parent = pd.HDFStore(parent_filename)\n",
    "\n",
    "\n",
    "########################\n",
    "## Get Reference Data ##\n",
    "########################\n",
    "# Create a filename where we can store all records in an HDF5 file\n",
    "clean_filename = base + 'Data/ReferenceUSA/sample_clean.h5'\n",
    "# Attach to the HDF5 file with the clean referenceUSA data\n",
    "store = pd.HDFStore(clean_filename)\n",
    "# Get the sturcture data that will identify parents, subsidiaries, branches, and independent establishments\n",
    "structure = store.select('structure')\n",
    "# Get the main data to identify companies\n",
    "main = store.select('main')\n",
    "# Join the main and structure dataframes for processing\n",
    "main = main.join(structure)\n",
    "# Delete the structure dataframe to free up memory\n",
    "del structure "
   ]
  },
  {
   "cell_type": "code",
   "execution_count": 2,
   "metadata": {
    "collapsed": true
   },
   "outputs": [],
   "source": [
    "#########################################\n",
    "## Identify Firm Groups and Head Firms ##\n",
    "#########################################\n",
    "# Find all the firms where the ABI is the same as the Parent number. This identifies the vast majority of the head firms\n",
    "main['main_head'] = 0\n",
    "main.loc[(main.ABI == main.Parent_Number), 'main_head'] = 1\n",
    "\n",
    "# Find the firm groups, where a group is all companies under a given parent number in a given year\n",
    "grouped = main.groupby(['archive_version_year', 'Parent_Number'], as_index=False, sort=True)\n",
    "# Get the group_id for each observation so we can map them to groups\n",
    "group_id = grouped.grouper.group_info[0]\n",
    "# Add this group id to the main dataframe\n",
    "main['group_id'] = group_id\n",
    "\n",
    "#Find out how many head firms are in each firm group. It should be one, but some don't have any\n",
    "test = main.groupby(['group_id'], sort=True, as_index=False).sum()\n",
    "# Create a dataframe of the firm groups with no head firms\n",
    "group_miss = test[test.main_head == 0]['group_id']\n",
    "# Merge the list of groups with a missing head onto the main dataframe so we have an indicator for headless groups\n",
    "# <- need to find a way to make this indicator a binary variable instead of this category thing that ends up \n",
    "# <- being a string\n",
    "main = main.merge(pd.DataFrame(group_miss), how='left', on='group_id', indicator = True)\n",
    "# Create a dataframe of all the firms in firm groups with no head firm\n",
    "drop = pd.DataFrame(main[main._merge == 'both']['_merge'])\n",
    "# Delete the indicator for groups missing head firms\n",
    "del main['_merge']\n",
    "del test\n",
    "del group_miss"
   ]
  },
  {
   "cell_type": "code",
   "execution_count": 3,
   "metadata": {
    "collapsed": true
   },
   "outputs": [],
   "source": [
    "###########################################\n",
    "## Reidentify Firm Groups and Head Firms ##\n",
    "###########################################\n",
    "# Merge in the drop list so we know which firms to drop from the main list \n",
    "main = main.join(drop, how='left')\n",
    "\n",
    "# Drop these firms\n",
    "main = main[main._merge != 'both']\n",
    "\n",
    "# Redo the head indicator to make sure ever firm group has exactly one head firm\n",
    "main['main_head'] = 0\n",
    "main.loc[(main.ABI == main.Parent_Number), 'main_head'] = 1\n",
    "\n",
    "# Store the index of head firms in a main_head dataframe for future matching\n",
    "main_head = main['main_head']\n",
    "\n",
    "\n",
    "# Create a new grouping now that some firm groups have been removed\n",
    "grouped = main.groupby(['archive_version_year', 'Parent_Number'], as_index=False, sort=True)\n",
    "# Now that we have the grouping, we don't need the main dataframe, so delete this to clear up memory\n",
    "del main\n",
    "\n",
    "# Get the group_id for each observation so we can map them to groups\n",
    "group_id = grouped.grouper.group_info[0]"
   ]
  },
  {
   "cell_type": "code",
   "execution_count": 4,
   "metadata": {
    "collapsed": true
   },
   "outputs": [],
   "source": [
    "#######################\n",
    "## Main Parent Table ##\n",
    "#######################\n",
    "# Get the main information from the first observation in each firm group. Since this information is the same for all \n",
    "# observations in a group, it doesn't matter which observation it comes from\n",
    "parent_main = grouped.first()\n",
    "# Only keep the Parent number (which will be the ABI for the whole group), the archive version, and the company name\n",
    "parent_main = parent_main[['Parent_Number', 'archive_version_year', 'Company']]\n",
    "# Rename the Parent number column to reflect the fact that it will be the ABI number for the group\n",
    "parent_main.columns = ['ABI', 'archive_version_year', 'Company']\n",
    "# Simplify the datatypes to save space\n",
    "parent_main['ABI'] = parent_main.ABI.astype('int32')\n",
    "parent_main['archive_version_year'] = parent_main.archive_version_year.astype('int16')\n",
    "# Change the index name to group_id\n",
    "parent_main.index.name = 'group_id'\n",
    "# Save the main data\n",
    "parent.append('main', parent_main, index=False, dropna=False, expectedrows = 41528347)\n",
    "# Delete the main parent data to save memory\n",
    "del parent_main"
   ]
  },
  {
   "cell_type": "code",
   "execution_count": 5,
   "metadata": {
    "collapsed": true
   },
   "outputs": [],
   "source": [
    "#####################\n",
    "## Structure Table ##\n",
    "#####################\n",
    "# Aggregate the columns that we want to use\n",
    "parent_structure = grouped.agg({'IDCode': 'mean', 'Company_Holding_Status':'max', 'Business_Status_Code':'min'})\n",
    "# Only keep the columns needed in the structure dataframe\n",
    "parent_structure = parent_structure[['IDCode', 'Company_Holding_Status', 'Business_Status_Code']]\n",
    "# Simplify the datatypes to save space\n",
    "parent_structure['IDCode'] = parent_structure.IDCode.astype('uint8')\n",
    "parent_structure['Business_Status_Code'] = parent_structure.Business_Status_Code.astype('uint8')\n",
    "# Change the index name to group_id\n",
    "parent_structure.index.name = 'group_id'\n",
    "# Save the structure data\n",
    "parent.append('structure', parent_structure, index=False, dropna=False, expectedrows = 41528347)\n",
    "# Going to need to redo the structure data\n",
    "# Delete the parent structure data to save memory\n",
    "del parent_structure\n",
    "# delete the group structures, since we don't need these anymore\n",
    "del grouped"
   ]
  },
  {
   "cell_type": "code",
   "execution_count": 6,
   "metadata": {
    "collapsed": true
   },
   "outputs": [],
   "source": [
    "####################\n",
    "## Descript Table ##\n",
    "####################\n",
    "descript = store.select('descript')\n",
    "# Merge in the drop list so we know which firms to drop from the list \n",
    "descript = descript.join(drop, how='left')\n",
    "# Drop these firms\n",
    "descript = descript[descript._merge != 'both']\n",
    "# Delete the indicator column\n",
    "del descript['_merge']\n",
    "# Add in the group_id's to assign observations to groups\n",
    "descript['group_id'] = group_id\n",
    "# Group the data using these groups\n",
    "parent_group = descript.groupby(['group_id'], sort=True)\n",
    "# Now that we have the grouping, delete the original data to save memory\n",
    "del descript\n",
    "# Aggregate everything by sum, except establishment year which will use the min\n",
    "parent_desc = parent_group.sum()\n",
    "parent_desc2 = parent_group.min()\n",
    "del parent_group\n",
    "parent_desc['year_established'] = parent_desc2['year_established']\n",
    "# Save the descript data and remove it from the workspace to save memory\n",
    "del parent_desc2\n",
    "parent.append('descript', parent_desc, index=False, dropna=False, expectedrows = 41528347)\n",
    "del parent_desc"
   ]
  },
  {
   "cell_type": "code",
   "execution_count": 7,
   "metadata": {
    "collapsed": false
   },
   "outputs": [],
   "source": [
    "####################\n",
    "## Industry Table ##\n",
    "####################\n",
    "industry = store.select('industry')\n",
    "# Merge in the drop list so we know which firms to drop from the list \n",
    "industry = industry.join(drop, how='left')\n",
    "# Drop these firms\n",
    "industry = industry[industry._merge != 'both']\n",
    "# Delete the indicator column\n",
    "del industry['_merge']\n",
    "# Add in the group_id's to assign observations to groups\n",
    "industry['group_id'] = group_id\n",
    "# Only keep the industry information from the head firm in each group\n",
    "parent_industry = industry[main_head == 1]\n",
    "# Set the group_id as the index for the parent industry dataframe\n",
    "parent_industry.set_index('group_id', inplace=True)\n",
    "\n",
    "# Save the industry data and remove it from the workspace to save memory\n",
    "parent.append('industry', parent_industry, index=False, dropna=False, expectedrows = 41528347)\n",
    "del parent_industry\n",
    "del industry"
   ]
  },
  {
   "cell_type": "code",
   "execution_count": 8,
   "metadata": {
    "collapsed": false
   },
   "outputs": [],
   "source": [
    "####################\n",
    "## Geo Table ##\n",
    "####################\n",
    "geo = store.select('geo')\n",
    "# Merge in the drop list so we know which firms to drop from the list \n",
    "geo = geo.join(drop, how='left')\n",
    "# Drop these firms\n",
    "geo = geo[geo._merge != 'both']\n",
    "# Delete the indicator column\n",
    "del geo['_merge']\n",
    "# Add in the group_id's to assign observations to groups\n",
    "geo['group_id'] = group_id\n",
    "# Only keep the geo information from the head firm in each group\n",
    "parent_geo = geo[main_head == 1]\n",
    "# Set the group_id as the index for the parent industry dataframe\n",
    "parent_geo.set_index('group_id', inplace=True)\n",
    "\n",
    "# Save the geo data and remove it from the workspace to save memory\n",
    "parent.append('geo', parent_geo, index=False, dropna=False, expectedrows = 41528347)\n",
    "del parent_geo\n",
    "del geo"
   ]
  }
 ],
 "metadata": {
  "kernelspec": {
   "display_name": "Python 3",
   "language": "python",
   "name": "python3"
  },
  "language_info": {
   "codemirror_mode": {
    "name": "ipython",
    "version": 3
   },
   "file_extension": ".py",
   "mimetype": "text/x-python",
   "name": "python",
   "nbconvert_exporter": "python",
   "pygments_lexer": "ipython3",
   "version": "3.6.0"
  }
 },
 "nbformat": 4,
 "nbformat_minor": 2
}
