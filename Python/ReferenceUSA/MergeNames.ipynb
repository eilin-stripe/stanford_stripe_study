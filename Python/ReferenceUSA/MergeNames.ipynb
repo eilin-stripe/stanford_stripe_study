{
 "cells": [
  {
   "cell_type": "code",
   "execution_count": null,
   "metadata": {
    "collapsed": true
   },
   "outputs": [],
   "source": [
    "import numpy as np\n",
    "import pandas as pd\n",
    "import warnings\n",
    "warnings.filterwarnings('ignore')"
   ]
  },
  {
   "cell_type": "code",
   "execution_count": null,
   "metadata": {
    "collapsed": true
   },
   "outputs": [],
   "source": [
    "# Setup\n",
    "base = '../../../'\n",
    "\n",
    "###################################\n",
    "## Collapsed Parent Company File ##\n",
    "###################################\n",
    "# Attach to the HDF5 file where we will store the data rolled-up to the parent level\n",
    "collapse_filename = base + 'Data/ReferenceUSA/parent_collapse_2015.h5'\n",
    "# Setup the connection to the parent file\n",
    "store = pd.HDFStore(collapse_filename)\n",
    "\n",
    "main = store.select('main')\n",
    "main=main.rename(columns = {'Company':'name'})\n",
    "main=main.rename(columns = {'State':'state'})"
   ]
  },
  {
   "cell_type": "code",
   "execution_count": null,
   "metadata": {
    "collapsed": true
   },
   "outputs": [],
   "source": [
    "main = main[main.archive_version_year == 2015]"
   ]
  },
  {
   "cell_type": "code",
   "execution_count": null,
   "metadata": {
    "collapsed": false
   },
   "outputs": [],
   "source": [
    "#################\n",
    "## Stripe Data ##\n",
    "#################\n",
    "raw_data = base + 'Data/Raw/MergeData/merchant_sample_token_name_zip_state.csv'\n",
    "# Read in the ReferenceUSA data from CSV\n",
    "stripe = pd.read_csv(raw_data)\n",
    "stripe=stripe.rename(columns = {'legal_entity__address_state':'state'})\n",
    "stripe=stripe.rename(columns = {'legal_entity__address_zip':'zip'})"
   ]
  },
  {
   "cell_type": "code",
   "execution_count": null,
   "metadata": {
    "collapsed": false
   },
   "outputs": [],
   "source": [
    "firm_data_name = base + 'Data/Raw/MergeData/merchant_sample.csv'\n",
    "firm_data = pd.read_csv(firm_data_name)\n",
    "firm_data_start = firm_data[['token', 'unified_funnel__activation_date']]\n",
    "firm_data_start=firm_data_start.rename(columns = {'unified_funnel__activation_date':'start'})\n",
    "firm_data_start.start = firm_data_start.start.str[0:4]"
   ]
  },
  {
   "cell_type": "code",
   "execution_count": null,
   "metadata": {
    "collapsed": false
   },
   "outputs": [],
   "source": [
    "stripe = stripe.merge(firm_data_start, how='left', on='token')"
   ]
  },
  {
   "cell_type": "code",
   "execution_count": null,
   "metadata": {
    "collapsed": true
   },
   "outputs": [],
   "source": [
    "def print_full(x):\n",
    "    pd.set_option('display.max_rows', len(x))\n",
    "    print(x)\n",
    "    pd.reset_option('display.max_rows')"
   ]
  },
  {
   "cell_type": "code",
   "execution_count": null,
   "metadata": {
    "collapsed": true
   },
   "outputs": [],
   "source": [
    "def clean_names(data):\n",
    "    data['name'] = data.name.str.lower()\n",
    "    data['name'] = data.name.str.strip()\n",
    "    data['name'] = data.name.str.replace(' the ', ' ')\n",
    "    data['name'] = data.name.str.replace('^the ', '')\n",
    "    data['name'] = data.name.str.replace('^www\\.', '')\n",
    "    data['name'] = data.name.str.replace('\\.com$', '')\n",
    "    data['name'] = data.name.str.replace('\\.co$', '')\n",
    "    data['name'] = data.name.str.replace('\\.net$', '')\n",
    "    data['name'] = data.name.str.replace('&', 'and')\n",
    "    data['name'] = data.name.str.replace(\"[/,_@\\-\\'\\.\\|]\", '')\n",
    "    data['name'] = data.name.str.replace(' co inc$', ' company incorporated')\n",
    "    data['name'] = data.name.str.replace(' co. inc.$', ' company incorporated')\n",
    "    data['name'] = data.name.str.replace(' co. inc. ', ' company incorporated ')\n",
    "    data['name'] = data.name.str.replace(' co. inc. ', ' company incorporated ')\n",
    "    data['name'] = data.name.str.replace(' co$', ' company')\n",
    "    data['name'] = data.name.str.replace(' co ', ' company ')\n",
    "    data['name'] = data.name.str.replace(' corp$', ' corporation')\n",
    "    data['name'] = data.name.str.replace(' corp ', ' corporation ')\n",
    "    data['name'] = data.name.str.replace(' inc$', ' incorporated')\n",
    "    data['name'] = data.name.str.replace(' inc ', ' incorporated ')\n",
    "    data['name'] = data.name.str.replace(' mfg$', ' manufacturing')\n",
    "    data['name'] = data.name.str.replace(' mfg ', ' manufacturing ')\n",
    "    data['name'] = data.name.str.replace(' llc$', ' limited liability company')\n",
    "    data['name'] = data.name.str.replace(' llc ', ' limited liability company ')\n",
    "    data['name'] = data.name.str.replace(' llp$', ' limited liability partnership')\n",
    "    data['name'] = data.name.str.replace(' llp ', ' limited liability partnership ')\n",
    "    data['name'] = data.name.str.replace(' fcu$', ' federal credit union')\n",
    "    data['name'] = data.name.str.replace(' fcu ', ' federal credit union ')\n",
    "    data['name'] = data.name.str.replace(' ltd$', ' limited')\n",
    "    data['name'] = data.name.str.replace(' ltd ', ' limited ')\n",
    "    data['name'] = data.name.str.replace(' svc$', ' services')\n",
    "    data['name'] = data.name.str.replace(' svc ', ' services ')\n",
    "    data['name'] = data.name.str.replace(' nfp$', ' not for profit')\n",
    "    data['name'] = data.name.str.replace(' nfp ', ' not for profit ')\n",
    "    data['name'] = data.name.str.replace(' associates$', ' associate')\n",
    "    data['name'] = data.name.str.replace(' univ$', ' university')\n",
    "    data['name'] = data.name.str.replace(' univ ', ' university ')\n",
    "    data['name'] = data.name.str.replace(' dept$', ' department')\n",
    "    data['name'] = data.name.str.replace(' dept ', ' department ')\n",
    "    data['name'] = data.name.str.replace(' ctr$', ' center')\n",
    "    data['name'] = data.name.str.replace(' ctr ', ' center ')\n",
    "    data['name'] = data.name.str.replace(' ', '')\n",
    "    return data"
   ]
  },
  {
   "cell_type": "code",
   "execution_count": null,
   "metadata": {
    "collapsed": false
   },
   "outputs": [],
   "source": [
    "main_clean = clean_names(main.loc[:, ['name', 'State']])"
   ]
  },
  {
   "cell_type": "code",
   "execution_count": null,
   "metadata": {
    "collapsed": false
   },
   "outputs": [],
   "source": [
    "clean_main = clean_names(main)"
   ]
  },
  {
   "cell_type": "code",
   "execution_count": null,
   "metadata": {
    "collapsed": true
   },
   "outputs": [],
   "source": [
    "MA_main = clean_main[clean_main.state == 'MA']"
   ]
  },
  {
   "cell_type": "code",
   "execution_count": null,
   "metadata": {
    "collapsed": false
   },
   "outputs": [],
   "source": [
    "clean_data = clean_names(stripe)"
   ]
  },
  {
   "cell_type": "code",
   "execution_count": null,
   "metadata": {
    "collapsed": false
   },
   "outputs": [],
   "source": [
    "combined = clean_main.merge(clean_data, how='outer', left_on=['name_2', 'state'], right_on=['name', 'state'], indicator = True)"
   ]
  },
  {
   "cell_type": "code",
   "execution_count": null,
   "metadata": {
    "collapsed": false
   },
   "outputs": [],
   "source": [
    "combined._merge.value_counts()"
   ]
  },
  {
   "cell_type": "code",
   "execution_count": null,
   "metadata": {
    "collapsed": false
   },
   "outputs": [],
   "source": [
    "combined[(combined._merge == 'right_only') & (combined.start == '2015') & (combined.state == 'MN')]['name']\n",
    "a = 1"
   ]
  },
  {
   "cell_type": "code",
   "execution_count": null,
   "metadata": {
    "collapsed": false
   },
   "outputs": [],
   "source": [
    "combined_inc = combined[(combined.name.str.contains(\"incorporated\") == True)]"
   ]
  },
  {
   "cell_type": "code",
   "execution_count": null,
   "metadata": {
    "collapsed": false
   },
   "outputs": [],
   "source": [
    "combined[(combined['name_2'].str.contains(\"america\")==True) & (combined['name_2'].str.contains(\"drape\")==True) ]"
   ]
  },
  {
   "cell_type": "code",
   "execution_count": null,
   "metadata": {
    "collapsed": false
   },
   "outputs": [],
   "source": [
    "clean_main['name_2'] = clean_main.name.str.replace(' incorporated', '')"
   ]
  },
  {
   "cell_type": "code",
   "execution_count": null,
   "metadata": {
    "collapsed": false
   },
   "outputs": [],
   "source": [
    "len(clean_main.name.unique())"
   ]
  },
  {
   "cell_type": "code",
   "execution_count": null,
   "metadata": {
    "collapsed": false
   },
   "outputs": [],
   "source": [
    "len(clean_main.name_2.unique())"
   ]
  },
  {
   "cell_type": "code",
   "execution_count": null,
   "metadata": {
    "collapsed": true
   },
   "outputs": [],
   "source": [
    "# Replace technology /technologies\n",
    "# incorporated seems to be a problem for the match (count 2 now)\n",
    "# Sub string match for side by side\n",
    "# Match cehcking distance photgraphy photograhy\n",
    "\n",
    "# Drop incorporateds if things stay unique"
   ]
  }
 ],
 "metadata": {
  "kernelspec": {
   "display_name": "Python 3",
   "language": "python",
   "name": "python3"
  },
  "language_info": {
   "codemirror_mode": {
    "name": "ipython",
    "version": 3
   },
   "file_extension": ".py",
   "mimetype": "text/x-python",
   "name": "python",
   "nbconvert_exporter": "python",
   "pygments_lexer": "ipython3",
   "version": "3.6.0"
  }
 },
 "nbformat": 4,
 "nbformat_minor": 2
}
