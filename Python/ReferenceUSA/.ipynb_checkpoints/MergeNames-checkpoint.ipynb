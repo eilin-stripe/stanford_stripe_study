{
 "cells": [
  {
   "cell_type": "code",
   "execution_count": 1,
   "metadata": {
    "collapsed": true
   },
   "outputs": [],
   "source": [
    "import numpy as np\n",
    "import pandas as pd\n",
    "import warnings\n",
    "warnings.filterwarnings('ignore')"
   ]
  },
  {
   "cell_type": "code",
   "execution_count": 2,
   "metadata": {
    "collapsed": true
   },
   "outputs": [],
   "source": [
    "# Setup\n",
    "base = '../../../'\n",
    "\n",
    "###################################\n",
    "## Collapsed Parent Company File ##\n",
    "###################################\n",
    "# Attach to the HDF5 file where we will store the data rolled-up to the parent level\n",
    "collapse_filename = base + 'Data/ReferenceUSA/parent_collapse_2015.h5'\n",
    "# Setup the connection to the parent file\n",
    "store = pd.HDFStore(collapse_filename)\n",
    "\n",
    "main = store.select('main')\n",
    "main=main.rename(columns = {'Company':'name'})\n",
    "main=main.rename(columns = {'State':'state'})"
   ]
  },
  {
   "cell_type": "code",
   "execution_count": 3,
   "metadata": {
    "collapsed": true
   },
   "outputs": [],
   "source": [
    "main = main[main.archive_version_year == 2015]"
   ]
  },
  {
   "cell_type": "code",
   "execution_count": 65,
   "metadata": {
    "collapsed": false
   },
   "outputs": [],
   "source": [
    "#################\n",
    "## Stripe Data ##\n",
    "#################\n",
    "raw_data = base + 'Data/Raw/MergeData/merchant_sample_token_name_zip_state.csv'\n",
    "# Read in the ReferenceUSA data from CSV\n",
    "stripe = pd.read_csv(raw_data)\n",
    "stripe=stripe.rename(columns = {'legal_entity__address_state':'state'})\n",
    "stripe=stripe.rename(columns = {'legal_entity__address_zip':'zip'})"
   ]
  },
  {
   "cell_type": "code",
   "execution_count": 66,
   "metadata": {
    "collapsed": false
   },
   "outputs": [],
   "source": [
    "firm_data_name = base + 'Data/Raw/MergeData/merchant_sample.csv'\n",
    "firm_data = pd.read_csv(firm_data_name)\n",
    "firm_data_start = firm_data[['token', 'unified_funnel__activation_date']]\n",
    "firm_data_start=firm_data_start.rename(columns = {'unified_funnel__activation_date':'start'})\n",
    "firm_data_start.start = firm_data_start.start.str[0:4]"
   ]
  },
  {
   "cell_type": "code",
   "execution_count": 67,
   "metadata": {
    "collapsed": false
   },
   "outputs": [],
   "source": [
    "stripe = stripe.merge(firm_data_start, how='left', on='token')"
   ]
  },
  {
   "cell_type": "code",
   "execution_count": 4,
   "metadata": {
    "collapsed": true
   },
   "outputs": [],
   "source": [
    "def print_full(x):\n",
    "    pd.set_option('display.max_rows', len(x))\n",
    "    print(x)\n",
    "    pd.reset_option('display.max_rows')"
   ]
  },
  {
   "cell_type": "code",
   "execution_count": 5,
   "metadata": {
    "collapsed": true
   },
   "outputs": [],
   "source": [
    "def clean_names(data):\n",
    "    data['name'] = data.name.str.lower()\n",
    "    data['name'] = data.name.str.strip()\n",
    "    data['name'] = data.name.str.replace(' the ', ' ')\n",
    "    data['name'] = data.name.str.replace('^the ', '')\n",
    "    data['name'] = data.name.str.replace('^www\\.', '')\n",
    "    data['name'] = data.name.str.replace('\\.com$', '')\n",
    "    data['name'] = data.name.str.replace('\\.co$', '')\n",
    "    data['name'] = data.name.str.replace('\\.net$', '')\n",
    "    data['name'] = data.name.str.replace('&', 'and')\n",
    "    data['name'] = data.name.str.replace(\"[/,_@\\-\\'\\.\\|]\", '')\n",
    "    data['name'] = data.name.str.replace(' co inc$', ' company incorporated')\n",
    "    data['name'] = data.name.str.replace(' co. inc.$', ' company incorporated')\n",
    "    data['name'] = data.name.str.replace(' co. inc. ', ' company incorporated ')\n",
    "    data['name'] = data.name.str.replace(' co. inc. ', ' company incorporated ')\n",
    "    data['name'] = data.name.str.replace(' co$', ' company')\n",
    "    data['name'] = data.name.str.replace(' co ', ' company ')\n",
    "    data['name'] = data.name.str.replace(' corp$', ' corporation')\n",
    "    data['name'] = data.name.str.replace(' corp ', ' corporation ')\n",
    "    data['name'] = data.name.str.replace(' inc$', ' incorporated')\n",
    "    data['name'] = data.name.str.replace(' inc ', ' incorporated ')\n",
    "    data['name'] = data.name.str.replace(' mfg$', ' manufacturing')\n",
    "    data['name'] = data.name.str.replace(' mfg ', ' manufacturing ')\n",
    "    data['name'] = data.name.str.replace(' llc$', ' limited liability company')\n",
    "    data['name'] = data.name.str.replace(' llc ', ' limited liability company ')\n",
    "    data['name'] = data.name.str.replace(' llp$', ' limited liability partnership')\n",
    "    data['name'] = data.name.str.replace(' llp ', ' limited liability partnership ')\n",
    "    data['name'] = data.name.str.replace(' fcu$', ' federal credit union')\n",
    "    data['name'] = data.name.str.replace(' fcu ', ' federal credit union ')\n",
    "    data['name'] = data.name.str.replace(' ltd$', ' limited')\n",
    "    data['name'] = data.name.str.replace(' ltd ', ' limited ')\n",
    "    data['name'] = data.name.str.replace(' svc$', ' services')\n",
    "    data['name'] = data.name.str.replace(' svc ', ' services ')\n",
    "    data['name'] = data.name.str.replace(' nfp$', ' not for profit')\n",
    "    data['name'] = data.name.str.replace(' nfp ', ' not for profit ')\n",
    "    data['name'] = data.name.str.replace(' associates$', ' associate')\n",
    "    data['name'] = data.name.str.replace(' univ$', ' university')\n",
    "    data['name'] = data.name.str.replace(' univ ', ' university ')\n",
    "    data['name'] = data.name.str.replace(' dept$', ' department')\n",
    "    data['name'] = data.name.str.replace(' dept ', ' department ')\n",
    "    data['name'] = data.name.str.replace(' ctr$', ' center')\n",
    "    data['name'] = data.name.str.replace(' ctr ', ' center ')\n",
    "    data['name'] = data.name.str.replace(' ', '')\n",
    "    return data"
   ]
  },
  {
   "cell_type": "code",
   "execution_count": null,
   "metadata": {
    "collapsed": false
   },
   "outputs": [],
   "source": [
    "main_clean = clean_names(main.loc[:, ['name', 'State']])"
   ]
  },
  {
   "cell_type": "code",
   "execution_count": 7,
   "metadata": {
    "collapsed": false
   },
   "outputs": [],
   "source": [
    "clean_main = clean_names(main)"
   ]
  },
  {
   "cell_type": "code",
   "execution_count": 131,
   "metadata": {
    "collapsed": true
   },
   "outputs": [],
   "source": [
    "MA_main = clean_main[clean_main.state == 'MA']"
   ]
  },
  {
   "cell_type": "code",
   "execution_count": 69,
   "metadata": {
    "collapsed": false
   },
   "outputs": [],
   "source": [
    "clean_data = clean_names(stripe)"
   ]
  },
  {
   "cell_type": "code",
   "execution_count": 165,
   "metadata": {
    "collapsed": false
   },
   "outputs": [],
   "source": [
    "combined = clean_main.merge(clean_data, how='outer', left_on=['name_2', 'state'], right_on=['name', 'state'], indicator = True)"
   ]
  },
  {
   "cell_type": "code",
   "execution_count": 166,
   "metadata": {
    "collapsed": false
   },
   "outputs": [
    {
     "data": {
      "text/plain": [
       "left_only     9823841\n",
       "right_only      13239\n",
       "both             1117\n",
       "Name: _merge, dtype: int64"
      ]
     },
     "execution_count": 166,
     "metadata": {},
     "output_type": "execute_result"
    }
   ],
   "source": [
    "combined._merge.value_counts()"
   ]
  },
  {
   "cell_type": "code",
   "execution_count": 153,
   "metadata": {
    "collapsed": false
   },
   "outputs": [],
   "source": [
    "combined[(combined._merge == 'right_only') & (combined.start == '2015') & (combined.state == 'MN')]['name']\n",
    "a = 1"
   ]
  },
  {
   "cell_type": "code",
   "execution_count": 145,
   "metadata": {
    "collapsed": false
   },
   "outputs": [],
   "source": [
    "combined_inc = combined[(combined.name.str.contains(\"incorporated\") == True)]"
   ]
  },
  {
   "cell_type": "code",
   "execution_count": 170,
   "metadata": {
    "collapsed": false
   },
   "outputs": [
    {
     "data": {
      "text/html": [
       "<div>\n",
       "<table border=\"1\" class=\"dataframe\">\n",
       "  <thead>\n",
       "    <tr style=\"text-align: right;\">\n",
       "      <th></th>\n",
       "      <th>name_x</th>\n",
       "      <th>state</th>\n",
       "      <th>archive_version_year</th>\n",
       "      <th>name_2</th>\n",
       "      <th>token</th>\n",
       "      <th>name_y</th>\n",
       "      <th>zip</th>\n",
       "      <th>start</th>\n",
       "      <th>_merge</th>\n",
       "    </tr>\n",
       "  </thead>\n",
       "  <tbody>\n",
       "    <tr>\n",
       "      <th>181119</th>\n",
       "      <td>drapemastersofamerica</td>\n",
       "      <td>NY</td>\n",
       "      <td>2015.0</td>\n",
       "      <td>drapemastersofamerica</td>\n",
       "      <td>NaN</td>\n",
       "      <td>NaN</td>\n",
       "      <td>NaN</td>\n",
       "      <td>NaN</td>\n",
       "      <td>left_only</td>\n",
       "    </tr>\n",
       "    <tr>\n",
       "      <th>196825</th>\n",
       "      <td>americandraperyandinteriors</td>\n",
       "      <td>NY</td>\n",
       "      <td>2015.0</td>\n",
       "      <td>americandraperyandinteriors</td>\n",
       "      <td>NaN</td>\n",
       "      <td>NaN</td>\n",
       "      <td>NaN</td>\n",
       "      <td>NaN</td>\n",
       "      <td>left_only</td>\n",
       "    </tr>\n",
       "    <tr>\n",
       "      <th>723979</th>\n",
       "      <td>americandraperyandcarpet</td>\n",
       "      <td>WA</td>\n",
       "      <td>2015.0</td>\n",
       "      <td>americandraperyandcarpet</td>\n",
       "      <td>NaN</td>\n",
       "      <td>NaN</td>\n",
       "      <td>NaN</td>\n",
       "      <td>NaN</td>\n",
       "      <td>left_only</td>\n",
       "    </tr>\n",
       "    <tr>\n",
       "      <th>922027</th>\n",
       "      <td>americandraperysystems</td>\n",
       "      <td>MN</td>\n",
       "      <td>2015.0</td>\n",
       "      <td>americandraperysystems</td>\n",
       "      <td>NaN</td>\n",
       "      <td>NaN</td>\n",
       "      <td>NaN</td>\n",
       "      <td>NaN</td>\n",
       "      <td>left_only</td>\n",
       "    </tr>\n",
       "    <tr>\n",
       "      <th>1512564</th>\n",
       "      <td>drapemasterscleaningamerica</td>\n",
       "      <td>NJ</td>\n",
       "      <td>2015.0</td>\n",
       "      <td>drapemasterscleaningamerica</td>\n",
       "      <td>NaN</td>\n",
       "      <td>NaN</td>\n",
       "      <td>NaN</td>\n",
       "      <td>NaN</td>\n",
       "      <td>left_only</td>\n",
       "    </tr>\n",
       "    <tr>\n",
       "      <th>1821640</th>\n",
       "      <td>americanblindsanddraperies</td>\n",
       "      <td>CA</td>\n",
       "      <td>2015.0</td>\n",
       "      <td>americanblindsanddraperies</td>\n",
       "      <td>NaN</td>\n",
       "      <td>NaN</td>\n",
       "      <td>NaN</td>\n",
       "      <td>NaN</td>\n",
       "      <td>left_only</td>\n",
       "    </tr>\n",
       "    <tr>\n",
       "      <th>2109133</th>\n",
       "      <td>acmedrapemasterofamerica</td>\n",
       "      <td>NJ</td>\n",
       "      <td>2015.0</td>\n",
       "      <td>acmedrapemasterofamerica</td>\n",
       "      <td>NaN</td>\n",
       "      <td>NaN</td>\n",
       "      <td>NaN</td>\n",
       "      <td>NaN</td>\n",
       "      <td>left_only</td>\n",
       "    </tr>\n",
       "    <tr>\n",
       "      <th>2330437</th>\n",
       "      <td>americancustomdrapery</td>\n",
       "      <td>FL</td>\n",
       "      <td>2015.0</td>\n",
       "      <td>americancustomdrapery</td>\n",
       "      <td>NaN</td>\n",
       "      <td>NaN</td>\n",
       "      <td>NaN</td>\n",
       "      <td>NaN</td>\n",
       "      <td>left_only</td>\n",
       "    </tr>\n",
       "    <tr>\n",
       "      <th>3227663</th>\n",
       "      <td>americandraperycleaners</td>\n",
       "      <td>IL</td>\n",
       "      <td>2015.0</td>\n",
       "      <td>americandraperycleaners</td>\n",
       "      <td>NaN</td>\n",
       "      <td>NaN</td>\n",
       "      <td>NaN</td>\n",
       "      <td>NaN</td>\n",
       "      <td>left_only</td>\n",
       "    </tr>\n",
       "    <tr>\n",
       "      <th>3314935</th>\n",
       "      <td>drapemastersofamericaincorporated</td>\n",
       "      <td>NY</td>\n",
       "      <td>2015.0</td>\n",
       "      <td>drapemastersofamericaincorporated</td>\n",
       "      <td>NaN</td>\n",
       "      <td>NaN</td>\n",
       "      <td>NaN</td>\n",
       "      <td>NaN</td>\n",
       "      <td>left_only</td>\n",
       "    </tr>\n",
       "    <tr>\n",
       "      <th>3589080</th>\n",
       "      <td>americandraperyinstallation</td>\n",
       "      <td>NV</td>\n",
       "      <td>2015.0</td>\n",
       "      <td>americandraperyinstallation</td>\n",
       "      <td>NaN</td>\n",
       "      <td>NaN</td>\n",
       "      <td>NaN</td>\n",
       "      <td>NaN</td>\n",
       "      <td>left_only</td>\n",
       "    </tr>\n",
       "    <tr>\n",
       "      <th>4500470</th>\n",
       "      <td>americandrapemasters</td>\n",
       "      <td>IL</td>\n",
       "      <td>2015.0</td>\n",
       "      <td>americandrapemasters</td>\n",
       "      <td>NaN</td>\n",
       "      <td>NaN</td>\n",
       "      <td>NaN</td>\n",
       "      <td>NaN</td>\n",
       "      <td>left_only</td>\n",
       "    </tr>\n",
       "    <tr>\n",
       "      <th>4504848</th>\n",
       "      <td>americandraperysystmfurneys</td>\n",
       "      <td>NY</td>\n",
       "      <td>2015.0</td>\n",
       "      <td>americandraperysystmfurneys</td>\n",
       "      <td>NaN</td>\n",
       "      <td>NaN</td>\n",
       "      <td>NaN</td>\n",
       "      <td>NaN</td>\n",
       "      <td>left_only</td>\n",
       "    </tr>\n",
       "    <tr>\n",
       "      <th>5388963</th>\n",
       "      <td>americandraperiesandblinds</td>\n",
       "      <td>NJ</td>\n",
       "      <td>2015.0</td>\n",
       "      <td>americandraperiesandblinds</td>\n",
       "      <td>NaN</td>\n",
       "      <td>NaN</td>\n",
       "      <td>NaN</td>\n",
       "      <td>NaN</td>\n",
       "      <td>left_only</td>\n",
       "    </tr>\n",
       "    <tr>\n",
       "      <th>5577501</th>\n",
       "      <td>americandraperyblind</td>\n",
       "      <td>WA</td>\n",
       "      <td>2015.0</td>\n",
       "      <td>americandraperyblind</td>\n",
       "      <td>NaN</td>\n",
       "      <td>NaN</td>\n",
       "      <td>NaN</td>\n",
       "      <td>NaN</td>\n",
       "      <td>left_only</td>\n",
       "    </tr>\n",
       "    <tr>\n",
       "      <th>6360187</th>\n",
       "      <td>americandraperyanddesign</td>\n",
       "      <td>WY</td>\n",
       "      <td>2015.0</td>\n",
       "      <td>americandraperyanddesign</td>\n",
       "      <td>NaN</td>\n",
       "      <td>NaN</td>\n",
       "      <td>NaN</td>\n",
       "      <td>NaN</td>\n",
       "      <td>left_only</td>\n",
       "    </tr>\n",
       "    <tr>\n",
       "      <th>6748614</th>\n",
       "      <td>northamericaflooringdrapery</td>\n",
       "      <td>CA</td>\n",
       "      <td>2015.0</td>\n",
       "      <td>northamericaflooringdrapery</td>\n",
       "      <td>NaN</td>\n",
       "      <td>NaN</td>\n",
       "      <td>NaN</td>\n",
       "      <td>NaN</td>\n",
       "      <td>left_only</td>\n",
       "    </tr>\n",
       "    <tr>\n",
       "      <th>7050323</th>\n",
       "      <td>americasonsitedrapery</td>\n",
       "      <td>FL</td>\n",
       "      <td>2015.0</td>\n",
       "      <td>americasonsitedrapery</td>\n",
       "      <td>NaN</td>\n",
       "      <td>NaN</td>\n",
       "      <td>NaN</td>\n",
       "      <td>NaN</td>\n",
       "      <td>left_only</td>\n",
       "    </tr>\n",
       "    <tr>\n",
       "      <th>9145475</th>\n",
       "      <td>aallamericandraperies</td>\n",
       "      <td>NV</td>\n",
       "      <td>2015.0</td>\n",
       "      <td>aallamericandraperies</td>\n",
       "      <td>NaN</td>\n",
       "      <td>NaN</td>\n",
       "      <td>NaN</td>\n",
       "      <td>NaN</td>\n",
       "      <td>left_only</td>\n",
       "    </tr>\n",
       "    <tr>\n",
       "      <th>9230436</th>\n",
       "      <td>americandrapery</td>\n",
       "      <td>CA</td>\n",
       "      <td>2015.0</td>\n",
       "      <td>americandrapery</td>\n",
       "      <td>NaN</td>\n",
       "      <td>NaN</td>\n",
       "      <td>NaN</td>\n",
       "      <td>NaN</td>\n",
       "      <td>left_only</td>\n",
       "    </tr>\n",
       "  </tbody>\n",
       "</table>\n",
       "</div>"
      ],
      "text/plain": [
       "                                    name_x state  archive_version_year  \\\n",
       "181119               drapemastersofamerica    NY                2015.0   \n",
       "196825         americandraperyandinteriors    NY                2015.0   \n",
       "723979            americandraperyandcarpet    WA                2015.0   \n",
       "922027              americandraperysystems    MN                2015.0   \n",
       "1512564        drapemasterscleaningamerica    NJ                2015.0   \n",
       "1821640         americanblindsanddraperies    CA                2015.0   \n",
       "2109133           acmedrapemasterofamerica    NJ                2015.0   \n",
       "2330437              americancustomdrapery    FL                2015.0   \n",
       "3227663            americandraperycleaners    IL                2015.0   \n",
       "3314935  drapemastersofamericaincorporated    NY                2015.0   \n",
       "3589080        americandraperyinstallation    NV                2015.0   \n",
       "4500470               americandrapemasters    IL                2015.0   \n",
       "4504848        americandraperysystmfurneys    NY                2015.0   \n",
       "5388963         americandraperiesandblinds    NJ                2015.0   \n",
       "5577501               americandraperyblind    WA                2015.0   \n",
       "6360187           americandraperyanddesign    WY                2015.0   \n",
       "6748614        northamericaflooringdrapery    CA                2015.0   \n",
       "7050323              americasonsitedrapery    FL                2015.0   \n",
       "9145475              aallamericandraperies    NV                2015.0   \n",
       "9230436                    americandrapery    CA                2015.0   \n",
       "\n",
       "                                    name_2  token name_y  zip start     _merge  \n",
       "181119               drapemastersofamerica    NaN    NaN  NaN   NaN  left_only  \n",
       "196825         americandraperyandinteriors    NaN    NaN  NaN   NaN  left_only  \n",
       "723979            americandraperyandcarpet    NaN    NaN  NaN   NaN  left_only  \n",
       "922027              americandraperysystems    NaN    NaN  NaN   NaN  left_only  \n",
       "1512564        drapemasterscleaningamerica    NaN    NaN  NaN   NaN  left_only  \n",
       "1821640         americanblindsanddraperies    NaN    NaN  NaN   NaN  left_only  \n",
       "2109133           acmedrapemasterofamerica    NaN    NaN  NaN   NaN  left_only  \n",
       "2330437              americancustomdrapery    NaN    NaN  NaN   NaN  left_only  \n",
       "3227663            americandraperycleaners    NaN    NaN  NaN   NaN  left_only  \n",
       "3314935  drapemastersofamericaincorporated    NaN    NaN  NaN   NaN  left_only  \n",
       "3589080        americandraperyinstallation    NaN    NaN  NaN   NaN  left_only  \n",
       "4500470               americandrapemasters    NaN    NaN  NaN   NaN  left_only  \n",
       "4504848        americandraperysystmfurneys    NaN    NaN  NaN   NaN  left_only  \n",
       "5388963         americandraperiesandblinds    NaN    NaN  NaN   NaN  left_only  \n",
       "5577501               americandraperyblind    NaN    NaN  NaN   NaN  left_only  \n",
       "6360187           americandraperyanddesign    NaN    NaN  NaN   NaN  left_only  \n",
       "6748614        northamericaflooringdrapery    NaN    NaN  NaN   NaN  left_only  \n",
       "7050323              americasonsitedrapery    NaN    NaN  NaN   NaN  left_only  \n",
       "9145475              aallamericandraperies    NaN    NaN  NaN   NaN  left_only  \n",
       "9230436                    americandrapery    NaN    NaN  NaN   NaN  left_only  "
      ]
     },
     "execution_count": 170,
     "metadata": {},
     "output_type": "execute_result"
    }
   ],
   "source": [
    "combined[(combined['name_2'].str.contains(\"america\")==True) & (combined['name_2'].str.contains(\"drape\")==True) ]"
   ]
  },
  {
   "cell_type": "code",
   "execution_count": 163,
   "metadata": {
    "collapsed": false
   },
   "outputs": [],
   "source": [
    "clean_main['name_2'] = clean_main.name.str.replace(' incorporated', '')"
   ]
  },
  {
   "cell_type": "code",
   "execution_count": 160,
   "metadata": {
    "collapsed": false
   },
   "outputs": [
    {
     "data": {
      "text/plain": [
       "8424669"
      ]
     },
     "execution_count": 160,
     "metadata": {},
     "output_type": "execute_result"
    }
   ],
   "source": [
    "len(clean_main.name.unique())"
   ]
  },
  {
   "cell_type": "code",
   "execution_count": 164,
   "metadata": {
    "collapsed": false
   },
   "outputs": [
    {
     "data": {
      "text/plain": [
       "8424669"
      ]
     },
     "execution_count": 164,
     "metadata": {},
     "output_type": "execute_result"
    }
   ],
   "source": [
    "len(clean_main.name_2.unique())"
   ]
  },
  {
   "cell_type": "code",
   "execution_count": null,
   "metadata": {
    "collapsed": true
   },
   "outputs": [],
   "source": [
    "# Replace technology /technologies\n",
    "# incorporated seems to be a problem for the match (count 2 now)\n",
    "# Sub string match for side by side\n",
    "# Match cehcking distance photgraphy photograhy\n",
    "\n",
    "# Drop incorporateds if things stay unique"
   ]
  }
 ],
 "metadata": {
  "kernelspec": {
   "display_name": "Python 3",
   "language": "python",
   "name": "python3"
  },
  "language_info": {
   "codemirror_mode": {
    "name": "ipython",
    "version": 3
   },
   "file_extension": ".py",
   "mimetype": "text/x-python",
   "name": "python",
   "nbconvert_exporter": "python",
   "pygments_lexer": "ipython3",
   "version": "3.6.0"
  }
 },
 "nbformat": 4,
 "nbformat_minor": 2
}
