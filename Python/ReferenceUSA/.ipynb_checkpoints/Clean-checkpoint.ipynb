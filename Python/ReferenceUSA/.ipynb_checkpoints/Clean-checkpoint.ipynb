{
 "cells": [
  {
   "cell_type": "code",
   "execution_count": 1,
   "metadata": {
    "collapsed": true
   },
   "outputs": [],
   "source": [
    "import numpy as np\n",
    "import pandas as pd\n",
    "import os, errno\n",
    "\n",
    "def silentremove(filename):\n",
    "   try:\n",
    "       os.remove(filename)\n",
    "   except OSError as e: # this would be \"except OSError, e:\" before Python 2.6\n",
    "       if e.errno != errno.ENOENT: # errno.ENOENT = no such file or directory\n",
    "           raise # re-raise exception if a different error occurred\n",
    "\n",
    "base = '../'\n",
    "# Create a filename where we can store all records in an HDF5 file\n",
    "filename = base + 'Data/ReferenceUSA/sample.h5'\n",
    "# Attach to the HDF5 file\n",
    "store = pd.HDFStore(filename)\n",
    "\n",
    "# Create a filename where we can store all records in an HDF5 file\n",
    "clean_filename = base + 'Data/ReferenceUSA/sample_clean.h5'\n",
    "# Clear the HdF5 file so we're not doubling up the data\n",
    "silentremove(clean_filename)\n",
    "# Attach to the HDF5 file\n",
    "store_clean = pd.HDFStore(clean_filename)\n",
    "\n",
    "main = store.select('main')\n",
    "Names_table = main.pivot(index='ABI', columns='archive_version_year', values='Company')\n",
    "Names_table.columns = ['name_2013', 'name_2014', 'name_2015']\n",
    "store_clean.append('names', Names_table, index=False, dropna=False, expectedrows = 20284553)\n",
    "del Names_table\n",
    "\n",
    "store_clean.append('main', main, index=False, dropna=False, expectedrows = 47500177)\n",
    "\n",
    "\n",
    "geo = store.select('geo')\n",
    "geo['State'] = geo.State.astype('category')\n",
    "geo['City'] = geo.City.astype('category')\n",
    "store_clean.append('geo', geo, index=False, dropna=False, expectedrows = 47500177)\n",
    "del geo\n",
    "\n",
    "industry = store.select('industry')\n",
    "store_clean.append('industry', industry, index=False, dropna=False, expectedrows = 47500177)\n",
    "del industry\n",
    "\n",
    "descript = store.select('descript')\n",
    "store_clean.append('descript', descript, index=False, dropna=False, expectedrows = 47500177)\n",
    "del descript\n",
    "\n",
    "structure = store.select('structure')\n",
    "structure.IDCode = structure.IDCode.astype('uint8')\n",
    "structure.Business_Status_Code = structure.Business_Status_Code.astype('uint8')\n",
    "structure.loc[structure.Business_Status_Code==9, 'Parent_Number'] = main.ABI\n",
    "structure['Parent_Number'] = structure.Parent_Number.astype('uint32')\n",
    "store_clean.append('structure', structure, index=False, dropna=False, expectedrows = 47500177)\n",
    "del structure\n",
    "del main"
   ]
  },
  {
   "cell_type": "code",
   "execution_count": null,
   "metadata": {
    "collapsed": true
   },
   "outputs": [],
   "source": []
  }
 ],
 "metadata": {
  "kernelspec": {
   "display_name": "Python 3",
   "language": "python",
   "name": "python3"
  },
  "language_info": {
   "codemirror_mode": {
    "name": "ipython",
    "version": 3
   },
   "file_extension": ".py",
   "mimetype": "text/x-python",
   "name": "python",
   "nbconvert_exporter": "python",
   "pygments_lexer": "ipython3",
   "version": "3.6.0"
  }
 },
 "nbformat": 4,
 "nbformat_minor": 2
}
