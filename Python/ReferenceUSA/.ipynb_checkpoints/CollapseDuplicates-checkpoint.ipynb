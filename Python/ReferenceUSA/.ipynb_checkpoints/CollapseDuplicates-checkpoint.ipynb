{
 "cells": [
  {
   "cell_type": "code",
   "execution_count": 1,
   "metadata": {
    "collapsed": false
   },
   "outputs": [],
   "source": [
    "import numpy as np\n",
    "import pandas as pd\n",
    "import os, errno\n",
    "\n",
    "def silentremove(filename):\n",
    "   try:\n",
    "       os.remove(filename)\n",
    "   except OSError as e: # this would be \"except OSError, e:\" before Python 2.6\n",
    "       if e.errno != errno.ENOENT: # errno.ENOENT = no such file or directory\n",
    "           raise # re-raise exception if a different error occurred\n",
    "\n",
    "# Setup\n",
    "base = '../../../'\n",
    "\n",
    "###################################\n",
    "## Collapsed Parent Company File ##\n",
    "###################################\n",
    "# Attach to the HDF5 file where we will store the data rolled-up to the parent level\n",
    "collapse_filename = base + 'Data/ReferenceUSA/parent_collapse_2015.h5'\n",
    "# Delete the file that's already in this location in order to ensure that we're not appending data twice\n",
    "silentremove(collapse_filename)\n",
    "# Setup the connection to the parent file\n",
    "collapse = pd.HDFStore(collapse_filename)\n",
    "\n",
    "\n",
    "########################\n",
    "## Get Reference Data ##\n",
    "########################\n",
    "# Create a filename where we can store all records in an HDF5 file\n",
    "parent_filename = base + 'Data/ReferenceUSA/parent.h5'\n",
    "# Attach to the HDF5 file with the clean referenceUSA data\n",
    "store = pd.HDFStore(parent_filename)\n",
    "# Get the geo data that will help to seperate companies with the same name in different places\n",
    "geo = store.select('geo')\n",
    "# Delete the geo data that we don't need, since memory is tight\n",
    "del geo['County_Code']\n",
    "del geo['CBSA_Code']\n",
    "del geo['ZipCode']\n",
    "del geo['City']\n",
    "\n",
    "# Get the main data to identify companies\n",
    "main = store.select('main')\n",
    "\n",
    "# Join the main and structure dataframes for processing\n",
    "# main['State'] = geo['State']\n",
    "main = main.join(geo)\n",
    "# Delete the structure dataframe to free up memory\n",
    "del geo\n",
    "\n",
    "main['State'] = main.State.astype('object')\n",
    "\n",
    "group_id, levels = pd.factorize(pd.lib.fast_zip([main.Company.values,\n",
    "                                               main.State.values,\n",
    "                                               main.archive_version_year.values]))\n",
    "\n",
    "main['group_id'] = group_id\n",
    "\n",
    "# main = main[main.archive_version_year == 2015]\n",
    "\n",
    "# Create groups of company names that are repeated within the same state\n",
    "main_group = main.groupby(['group_id'],sort=True)\n",
    "# Delete the main data to free up memory\n",
    "del main"
   ]
  },
  {
   "cell_type": "code",
   "execution_count": 2,
   "metadata": {
    "collapsed": true
   },
   "outputs": [],
   "source": [
    "#######################\n",
    "## Main Parent Table ##\n",
    "#######################\n",
    "# Get the main information from the first observation in each firm group. Since this information is the same for all \n",
    "# observations in a group, it doesn't matter which observation it comes from\n",
    "collapse_main = main_group.first()\n",
    "del main_group\n",
    "# Only keep the Company Name, the state, and the archive version\n",
    "collapse_main = collapse_main[['Company', 'State', 'archive_version_year']]\n",
    "# Simplify the datatypes to save space\n",
    "collapse_main['State'] = collapse_main.State.astype('category')\n",
    "# Save the main data\n",
    "collapse.append('main', collapse_main, index=False, dropna=False, expectedrows = 30196810)\n",
    "# Delete the main parent data to save memory\n",
    "del collapse_main"
   ]
  },
  {
   "cell_type": "code",
   "execution_count": 3,
   "metadata": {
    "collapsed": false
   },
   "outputs": [],
   "source": [
    "####################\n",
    "## Descript Table ##\n",
    "####################\n",
    "descript = store.select('descript')\n",
    "descript['group_id'] = group_id\n",
    "parent_group = descript.groupby(['group_id'], sort=True)\n",
    "del descript\n",
    "parent_desc = parent_group.sum()\n",
    "parent_desc2 = parent_group.min()\n",
    "del parent_group\n",
    "parent_desc['year_established'] = parent_desc2['year_established']\n",
    "del parent_desc2\n",
    "collapse.append('descript', parent_desc, index=False, dropna=False, expectedrows = 30196810)\n",
    "del parent_desc"
   ]
  },
  {
   "cell_type": "code",
   "execution_count": 4,
   "metadata": {
    "collapsed": true
   },
   "outputs": [],
   "source": [
    "####################\n",
    "## Industry Table ##\n",
    "####################\n",
    "industry = store.select('industry')\n",
    "industry['group_id'] = group_id\n",
    "collapse_group = industry.groupby(['group_id'], sort=True)\n",
    "del industry\n",
    "collapse_industry = collapse_group.first()\n",
    "del collapse_group\n",
    "collapse.append('industry', collapse_industry, index=False, dropna=False, expectedrows = 30196810)\n",
    "del collapse_industry"
   ]
  },
  {
   "cell_type": "code",
   "execution_count": 38,
   "metadata": {
    "collapsed": true
   },
   "outputs": [],
   "source": [
    "###############\n",
    "## Geo Table ##\n",
    "###############\n",
    "geo = store.select('geo')\n",
    "geo['group_id'] = group_id\n",
    "geo['State'] = geo.State.astype('object')\n",
    "geo['City'] = geo.City.astype('object')\n",
    "collapse_group = geo.groupby(['group_id'], sort=True)\n",
    "del geo\n",
    "collapse_geo = collapse_group.first()\n",
    "del collapse_group\n",
    "collapse.append('geo', collapse_geo, index=False, dropna=False, expectedrows = 30196810)\n",
    "del collapse_geo"
   ]
  },
  {
   "cell_type": "code",
   "execution_count": 47,
   "metadata": {
    "collapsed": false
   },
   "outputs": [],
   "source": [
    "#####################\n",
    "## Structure Table ##\n",
    "#####################\n",
    "struct = store.select('structure')\n",
    "struct['group_id'] = group_id\n",
    "collapse_group = struct.groupby(['group_id'], sort=True)\n",
    "del struct\n",
    "collapse_struct = collapse_group.first()\n",
    "del collapse_group\n",
    "collapse.append('structure', collapse_struct, index=False, dropna=False, expectedrows = 30196810)\n",
    "del collapse_struct"
   ]
  },
  {
   "cell_type": "code",
   "execution_count": null,
   "metadata": {
    "collapsed": true
   },
   "outputs": [],
   "source": []
  }
 ],
 "metadata": {
  "kernelspec": {
   "display_name": "Python 3",
   "language": "python",
   "name": "python3"
  },
  "language_info": {
   "codemirror_mode": {
    "name": "ipython",
    "version": 3
   },
   "file_extension": ".py",
   "mimetype": "text/x-python",
   "name": "python",
   "nbconvert_exporter": "python",
   "pygments_lexer": "ipython3",
   "version": "3.6.0"
  }
 },
 "nbformat": 4,
 "nbformat_minor": 2
}
